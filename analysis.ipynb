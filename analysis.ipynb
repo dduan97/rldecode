{
 "cells": [
  {
   "cell_type": "code",
   "execution_count": 34,
   "id": "8070e63f-266d-44ce-8c4d-ce09bb49f1d2",
   "metadata": {},
   "outputs": [],
   "source": [
    "import torch\n",
    "from matplotlib import pyplot as plt\n",
    "import numpy as np\n",
    "import seaborn as sns\n",
    "import scipy\n",
    "import pandas as pd"
   ]
  },
  {
   "cell_type": "code",
   "execution_count": 20,
   "id": "35acae77-5091-42bd-b8ca-780a7579c76b",
   "metadata": {},
   "outputs": [
    {
     "name": "stdout",
     "output_type": "stream",
     "text": [
      "dict_keys(['temps', 'input_scores', 'next_token_embs'])\n"
     ]
    }
   ],
   "source": [
    "tp_details0 = torch.load('results/EVAL:tldr:sft_temperature-policy_judge:gpt-4o_n:100_bs:8_model:vwxyzjn/EleutherAI_pythia-1b-deduped__sft__tldr/sft__44413__1708611267_ckpt:model_epoch0_step999.pt_seed:510/temperature_policy_logs.pt')\n",
    "tp_details1 = torch.load('results/EVAL:tldr:sft_temperature-policy_judge:gpt-4o_n:100_bs:8_model:vwxyzjn/EleutherAI_pythia-1b-deduped__sft__tldr/sft__44413__1708611267_ckpt:model_epoch30_step30999.pt_seed:510/temperature_policy_logs.pt')\n",
    "print(tp_details0.keys())\n",
    "\n",
    "def add_metrics(tp_details):\n",
    "    temps = torch.cat(tp_details['temps'], dim=0).flatten()\n",
    "    tp_details['processed_temps'] = temps\n",
    "    input_scores = torch.cat(tp_details['input_scores'], dim=0)\n",
    "    input_scores = torch.nn.functional.softmax(input_scores, dim=1)\n",
    "    tp_details['softmax_scores'] = input_scores\n",
    "    tp_details['max_token_scores'] = torch.max(input_scores, dim=1)[0]\n",
    "    entropies = -torch.sum(input_scores * torch.log(input_scores), axis=1) / np.log(temps.shape[0])\n",
    "    tp_details['entropies'] = entropies \n",
    "    tp_details['sum_squares'] = torch.sum(input_scores * input_scores, dim=1)\n",
    "    tp_details['joined_embs'] = torch.cat(tp_details['next_token_embs'], dim=0)\n",
    "    \n",
    "\n",
    "add_metrics(tp_details0)\n",
    "add_metrics(tp_details1)"
   ]
  },
  {
   "cell_type": "code",
   "execution_count": null,
   "id": "28c265bd-b60a-45fd-9ae1-ae0741f3272b",
   "metadata": {},
   "outputs": [],
   "source": [
    "# Correlation between entropies and temperatures\n",
    "for feature in ['max_token_scores', 'entropies', 'sum_squares']:\n",
    "    feature_vec = tp_details1[feature]\n",
    "    temp_vec = tp_details1['processed_temps']\n",
    "    print(feature_vec.shape)\n",
    "    print(temp_vec.shape)\n",
    "    corr = scipy.stats.pearsonr(feature_vec, temp_vec)\n",
    "    print(feature)\n",
    "    print(corr)\n",
    "    print('\\n\\n===============\\n\\n')"
   ]
  },
  {
   "cell_type": "code",
   "execution_count": 37,
   "id": "8d0d705e",
   "metadata": {},
   "outputs": [
    {
     "data": {
      "text/plain": [
       "<Axes: xlabel='correlation', ylabel='Count'>"
      ]
     },
     "execution_count": 37,
     "metadata": {},
     "output_type": "execute_result"
    },
    {
     "data": {
      "image/png": "[encoded data removed]",
      "text/plain": [
       "<Figure size 640x480 with 1 Axes>"
      ]
     },
     "metadata": {},
     "output_type": "display_data"
    }
   ],
   "source": [
    "corrs = []\n",
    "temp_vec = tp_details1['processed_temps']\n",
    "for i in range(2048):\n",
    "    feature_embs = tp_details1['joined_embs'][:,i]\n",
    "    corr = scipy.stats.pearsonr(feature_embs, temp_vec)\n",
    "    corr = corr[0]\n",
    "    if corr > 0.3 or corr < -0.3:\n",
    "        print(corr)\n",
    "    corrs.append(corr)\n",
    "\n",
    "corrs = pd.DataFrame({'correlation': corrs})\n",
    "sns.histplot(data=corrs, x=\"correlation\")"
   ]
  }
 ],
 "metadata": {
  "kernelspec": {
   "display_name": "Python 3 (ipykernel)",
   "language": "python",
   "name": "python3"
  },
  "language_info": {
   "codemirror_mode": {
    "name": "ipython",
    "version": 3
   },
   "file_extension": ".py",
   "mimetype": "text/x-python",
   "name": "python",
   "nbconvert_exporter": "python",
   "pygments_lexer": "ipython3",
   "version": "3.12.3"
  }
 },
 "nbformat": 4,
 "nbformat_minor": 5
}
